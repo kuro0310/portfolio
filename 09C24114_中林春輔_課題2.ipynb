{
  "cells": [
    {
      "cell_type": "markdown",
      "metadata": {
        "id": "view-in-github",
        "colab_type": "text"
      },
      "source": [
        "<a href=\"https://colab.research.google.com/github/kuro0310/portfolio/blob/main/09C24114_%E4%B8%AD%E6%9E%97%E6%98%A5%E8%BC%94_%E8%AA%B2%E9%A1%8C2.ipynb\" target=\"_parent\"><img src=\"https://colab.research.google.com/assets/colab-badge.svg\" alt=\"Open In Colab\"/></a>"
      ]
    },
    {
      "cell_type": "markdown",
      "metadata": {
        "id": "I9mBZe7vrSrf"
      },
      "source": [
        "1. 表 1.3 の男子の体重の累積度数分布表とヒストグラムを作れ。ただし、体重の階級とそれらの\n",
        "境界値は、002.pdf にある通りにするものとする。"
      ]
    },
    {
      "cell_type": "code",
      "execution_count": null,
      "metadata": {
        "colab": {
          "base_uri": "https://localhost:8080/",
          "height": 684
        },
        "id": "EPbZHbSksK62",
        "outputId": "913c0e77-607a-43f9-b811-9879cfffc17b"
      },
      "outputs": [
        {
          "output_type": "stream",
          "name": "stdout",
          "text": [
            "              階級値  度数  累積度数\n",
            "階級                         \n",
            "44.5 - 49.5  47.0   2     2\n",
            "49.5 - 54.5  52.0  18    20\n",
            "54.5 - 59.5  57.0  30    50\n",
            "59.5 - 64.5  62.0  23    73\n",
            "64.5 - 69.5  67.0  17    90\n",
            "69.5 - 74.5  72.0   6    96\n",
            "74.5 - 79.5  77.0   2    98\n",
            "79.5 - 84.5  82.0   1    99\n",
            "84.5 - 89.5  87.0   1   100\n"
          ]
        },
        {
          "output_type": "execute_result",
          "data": {
            "text/plain": [
              "(array([ 2., 18., 30., 23., 17.,  6.,  2.,  1.,  1.]),\n",
              " array([44.5, 49.5, 54.5, 59.5, 64.5, 69.5, 74.5, 79.5, 84.5, 89.5]),\n",
              " <BarContainer object of 9 artists>)"
            ]
          },
          "metadata": {},
          "execution_count": 22
        },
        {
          "output_type": "display_data",
          "data": {
            "text/plain": [
              "<Figure size 640x480 with 1 Axes>"
            ],
            "image/png": "[encoded data removed]"
          },
          "metadata": {}
        }
      ],
      "source": [
        "import numpy as np\n",
        "import pandas as pd\n",
        "import matplotlib.pyplot as plt\n",
        "weights = [60, 66, 66, 57, 68, 55, 58, 62, 63, 61, 60, 57, 57, 59, 60, 53, 60, 56, 57, 58, 66, 85, 55, 54, 59, 59, 54, 68, 50, 70, 55, 59, 61, 61, 58, 63, 56, 69, 63, 64, 66, 62, 70, 65, 70, 56, 52, 59, 59, 50, 61, 56, 52, 66, 54, 65, 59, 62, 65, 58, 57, 68, 53, 63, 67, 57, 47, 75, 66, 57, 70, 50, 58, 50, 60, 61, 50, 48, 66, 63, 54, 69, 69, 56, 54, 51, 58, 75, 54, 58, 71, 52, 72, 64, 60, 51, 60, 63, 58, 81]\n",
        "weight_bins = [44.5, 49.5, 54.5, 59.5, 64.5, 69.5, 74.5, 79.5, 84.5, 89.5]\n",
        "hist = np.histogram(weights,weight_bins)[0]\n",
        "cumsum = hist.cumsum()\n",
        "global i\n",
        "i = 0\n",
        "class_value = [(weight_bins[i] + weight_bins[i+1]) / 2 for i in range(9)]\n",
        "bin_interval = [f\"{weight_bins[i]:.1f} - {weight_bins[i + 1]:.1f}\" for i in range(9)]\n",
        "freq_distribution = pd.DataFrame({'階級値':class_value,\n",
        "                                  '度数':hist,\n",
        "                                  '累積度数':cumsum},\n",
        "                                 index = pd.Index(bin_interval,\n",
        "                                                  name='階級'))\n",
        "print(freq_distribution)\n",
        "\n",
        "plt.hist(weights,weight_bins)"
      ]
    },
    {
      "cell_type": "markdown",
      "metadata": {
        "id": "o0EnkDUQsXZK"
      },
      "source": [
        "2. 男子の体重について、もとのデータおよび度数分布表から平均および分散を計算せよ。"
      ]
    },
    {
      "cell_type": "code",
      "execution_count": null,
      "metadata": {
        "colab": {
          "base_uri": "https://localhost:8080/"
        },
        "id": "A00oVKkMJkRm",
        "outputId": "5c453805-4241-4195-eacd-9f80f7044747"
      },
      "outputs": [
        {
          "output_type": "stream",
          "name": "stdout",
          "text": [
            "60.45\n",
            "48.12749999999999\n"
          ]
        }
      ],
      "source": [
        "#データからの平均および分散(numpyあり)\n",
        "import numpy as np\n",
        "weights = [60, 66, 66, 57, 68, 55, 58, 62, 63, 61, 60, 57, 57, 59, 60, 53, 60, 56, 57, 58, 66, 85, 55, 54, 59, 59, 54, 68, 50, 70, 55, 59, 61, 61, 58, 63, 56, 69, 63, 64, 66, 62, 70, 65, 70, 56, 52, 59, 59, 50, 61, 56, 52, 66, 54, 65, 59, 62, 65, 58, 57, 68, 53, 63, 67, 57, 47, 75, 66, 57, 70, 50, 58, 50, 60, 61, 50, 48, 66, 63, 54, 69, 69, 56, 54, 51, 58, 75, 54, 58, 71, 52, 72, 64, 60, 51, 60, 63, 58, 81]\n",
        "weight_bins = [44.5, 49.5, 54.5, 59.5, 64.5, 69.5, 74.5, 79.5, 84.5, 89.5]\n",
        "ave = np.mean(weights)\n",
        "var = np.var(weights)\n",
        "print(ave)\n",
        "print(var)"
      ]
    },
    {
      "cell_type": "code",
      "execution_count": null,
      "metadata": {
        "colab": {
          "base_uri": "https://localhost:8080/"
        },
        "id": "0WRJNDbHsav1",
        "outputId": "cbb2ea2e-47d7-480b-9e87-798b82f05dfe"
      },
      "outputs": [
        {
          "output_type": "stream",
          "name": "stdout",
          "text": [
            "60.45\n",
            "48.12749999999999\n"
          ]
        }
      ],
      "source": [
        "#データからの平均および分散(numpyなし)\n",
        "weights = [60, 66, 66, 57, 68, 55, 58, 62, 63, 61, 60, 57, 57, 59, 60, 53, 60, 56, 57, 58, 66, 85, 55, 54, 59, 59, 54, 68, 50, 70, 55, 59, 61, 61, 58, 63, 56, 69, 63, 64, 66, 62, 70, 65, 70, 56, 52, 59, 59, 50, 61, 56, 52, 66, 54, 65, 59, 62, 65, 58, 57, 68, 53, 63, 67, 57, 47, 75, 66, 57, 70, 50, 58, 50, 60, 61, 50, 48, 66, 63, 54, 69, 69, 56, 54, 51, 58, 75, 54, 58, 71, 52, 72, 64, 60, 51, 60, 63, 58, 81]\n",
        "weight_bins = [44.5, 49.5, 54.5, 59.5, 64.5, 69.5, 74.5, 79.5, 84.5, 89.5]\n",
        "sum = 0\n",
        "for i in range(len(weights)):\n",
        "  sum += weights[i]\n",
        "ave =  sum / len(weights)\n",
        "j = 0\n",
        "for i in range(len(weights)):\n",
        "  j += (weights[i] - ave)**2\n",
        "var = j / len(weights)\n",
        "print(ave)\n",
        "print(var)"
      ]
    },
    {
      "cell_type": "markdown",
      "metadata": {
        "id": "AmcwrUx4sa_K"
      },
      "source": [
        "3. 体重の累積度数分布表から中央値を計算せよ。"
      ]
    },
    {
      "cell_type": "code",
      "execution_count": null,
      "metadata": {
        "colab": {
          "base_uri": "https://localhost:8080/"
        },
        "id": "YcGi0j0rKpxY",
        "outputId": "0c01f8a4-9a9c-46da-f639-a888eba721a1"
      },
      "outputs": [
        {
          "output_type": "stream",
          "name": "stdout",
          "text": [
            "59.5\n"
          ]
        }
      ],
      "source": [
        "#データからの中央値(numpyあり)\n",
        "import numpy as np\n",
        "weights = [60, 66, 66, 57, 68, 55, 58, 62, 63, 61, 60, 57, 57, 59, 60, 53, 60, 56, 57, 58, 66, 85, 55, 54, 59, 59, 54, 68, 50, 70, 55, 59, 61, 61, 58, 63, 56, 69, 63, 64, 66, 62, 70, 65, 70, 56, 52, 59, 59, 50, 61, 56, 52, 66, 54, 65, 59, 62, 65, 58, 57, 68, 53, 63, 67, 57, 47, 75, 66, 57, 70, 50, 58, 50, 60, 61, 50, 48, 66, 63, 54, 69, 69, 56, 54, 51, 58, 75, 54, 58, 71, 52, 72, 64, 60, 51, 60, 63, 58, 81]\n",
        "weight_bins = [44.5, 49.5, 54.5, 59.5, 64.5, 69.5, 74.5, 79.5, 84.5, 89.5]\n",
        "median = np.median(weights)\n",
        "print(median)"
      ]
    },
    {
      "cell_type": "code",
      "execution_count": null,
      "metadata": {
        "colab": {
          "base_uri": "https://localhost:8080/"
        },
        "id": "otfAgFx2shMG",
        "outputId": "9bbe5aa8-f7bb-40e8-bbb3-818ada2b7fe7"
      },
      "outputs": [
        {
          "output_type": "stream",
          "name": "stdout",
          "text": [
            "59.5\n"
          ]
        }
      ],
      "source": [
        "#データからの中央値(numpyなし)\n",
        "weights = [60, 66, 66, 57, 68, 55, 58, 62, 63, 61, 60, 57, 57, 59, 60, 53, 60, 56, 57, 58, 66, 85, 55, 54, 59, 59, 54, 68, 50, 70, 55, 59, 61, 61, 58, 63, 56, 69, 63, 64, 66, 62, 70, 65, 70, 56, 52, 59, 59, 50, 61, 56, 52, 66, 54, 65, 59, 62, 65, 58, 57, 68, 53, 63, 67, 57, 47, 75, 66, 57, 70, 50, 58, 50, 60, 61, 50, 48, 66, 63, 54, 69, 69, 56, 54, 51, 58, 75, 54, 58, 71, 52, 72, 64, 60, 51, 60, 63, 58, 81]\n",
        "weight_bins = [44.5, 49.5, 54.5, 59.5, 64.5, 69.5, 74.5, 79.5, 84.5, 89.5]\n",
        "weights_sort = sorted(weights)\n",
        "if len(weights) % 2 == 0:\n",
        "  median = (weights_sort[len(weights) // 2 - 1] + weights_sort[len(weights) // 2]) / 2\n",
        "else:\n",
        "  median = weights_sort[len(weights) // 2]\n",
        "print(median)"
      ]
    },
    {
      "cell_type": "markdown",
      "metadata": {
        "id": "8-LyCpRqshag"
      },
      "source": [
        "4. 例題 1.4 のフィギュアスケートの問題で、得点の大きい方二つ、小さい方二つを無視した重み付き平均を求めよ。"
      ]
    },
    {
      "cell_type": "code",
      "execution_count": null,
      "metadata": {
        "colab": {
          "base_uri": "https://localhost:8080/"
        },
        "id": "oTYfyq2RZJGn",
        "outputId": "21c476b3-4132-4200-c4ce-4d9c5bb6bb7c"
      },
      "outputs": [
        {
          "output_type": "stream",
          "name": "stdout",
          "text": [
            "5.58\n"
          ]
        }
      ],
      "source": [
        "#numpyあり\n",
        "import numpy as np\n",
        "scores = [5.6, 5.7, 5.5, 5.6, 5.6, 5.5, 5.7, 5.4, 5.6]\n",
        "scores_sort = sorted(scores)\n",
        "weights = [0,0,1,1,1,1,1,0,0]\n",
        "print(np.average(scores_sort,weights = weights))"
      ]
    },
    {
      "cell_type": "code",
      "execution_count": null,
      "metadata": {
        "colab": {
          "base_uri": "https://localhost:8080/"
        },
        "id": "w7Znw07Asorn",
        "outputId": "752ae0c2-922f-4a8c-e168-649f1dd5710b"
      },
      "outputs": [
        {
          "output_type": "stream",
          "name": "stdout",
          "text": [
            "1209.0\n"
          ]
        }
      ],
      "source": [
        "#numpyなし\n",
        "scores = [5.6, 5.7, 5.5, 5.6, 5.6, 5.5, 5.7, 5.4, 5.6]\n",
        "scores_sort = sorted(scores)\n",
        "scores_sum = 0\n",
        "for i in range(2,len(scores)-2):\n",
        "  scores_sum += scores_sort[i]\n",
        "print(sum / (len(scores) - 4))"
      ]
    },
    {
      "cell_type": "markdown",
      "metadata": {
        "id": "EQODe3ymspJC"
      },
      "source": [
        "5. 例題 14 のプログラムを、a, b 以外に y¯, yˆ も出力するように変更せよ。それを用いて、例題 14のデータに対する決定係数の値を求めよ (後者は大きさが 100 になる)。\n"
      ]
    },
    {
      "cell_type": "code",
      "execution_count": null,
      "metadata": {
        "id": "x2zHFgeIs8bR",
        "colab": {
          "base_uri": "https://localhost:8080/"
        },
        "outputId": "1f00d2ab-58f2-4b62-b216-79801f5eada5"
      },
      "outputs": [
        {
          "output_type": "stream",
          "name": "stdout",
          "text": [
            "0.43879938780414784 0.05292205465070685 2.0 [-15.01444057   0.86217583   3.93165499  22.66606234   6.15438129\n",
            "  -5.43554868   1.55016254  -3.58327677  13.35178072  -4.48295169]\n",
            "0.9489680428223894\n"
          ]
        }
      ],
      "source": [
        "import numpy as np\n",
        "x = np.array([-292, 8, 66, 420, 108, -111, 21, -76, 244, -93])\n",
        "y = np.array([-14, 7, 3, 23, 7, -7, 0, -4, 12, -7])\n",
        "\n",
        "# p18をプログラムにしたもの\n",
        "def least_square(x,y):\n",
        "    x_bar = np.mean(x)\n",
        "    y_bar = np.mean(y)\n",
        "    s_x_2 = np.var(x)\n",
        "    s_xy = np.mean((x - x_bar) * (y - y_bar))\n",
        "    alpha = y_bar\n",
        "    beta = s_xy / s_x_2\n",
        "    a = alpha - beta * x_bar\n",
        "    b = beta\n",
        "    y_hat = a + b * x\n",
        "    return a, b, y_bar, y_hat\n",
        "y_bar = np.mean(y)\n",
        "a, b ,y_bar, y_hat= least_square(x, y)\n",
        "det_coe = np.sum((y_hat - y_bar) ** 2) / np.sum((y - y_bar) ** 2)\n",
        "print(a, b, y_bar, y_hat)\n",
        "print(det_coe)"
      ]
    },
    {
      "cell_type": "markdown",
      "metadata": {
        "id": "w1jsgjnqs8xO"
      },
      "source": [
        "6. 例題 19 のプログラムを続けて、表 1.9 のすべての値を求めよ。ただし、9 列の各値は、それぞれ t, xt, yt, ytst, ytstvt, zt, ut = xt/(ytst), xt/(ytvtst), vt となる。したがって、ut から vt を先に求める必要がある。また、v1 = v2, v15 = v16 とおいてよい。"
      ]
    },
    {
      "cell_type": "code",
      "execution_count": null,
      "metadata": {
        "id": "e6P8nASQtKdf",
        "colab": {
          "base_uri": "https://localhost:8080/"
        },
        "outputId": "d27b19e4-38d4-4063-c5f4-121735bb7b8a"
      },
      "outputs": [
        {
          "output_type": "stream",
          "name": "stdout",
          "text": [
            "     観測地      トレンド予測値      季節変動予測値      循環変動予測値    トレンド誤差    季節変動誤差    循環変動誤差  \\\n",
            "1    651  1247.522059   631.227211   653.227040  0.521834  1.031324  0.996591   \n",
            "2   1389  1301.144118  1354.591022  1401.801867  1.067522  1.025402  0.990868   \n",
            "3   2365  1354.766176  2257.042695  2376.132522  1.745689  1.047831  0.995315   \n",
            "4   1199  1408.388235  1105.010140  1163.540536  0.851328  1.085058  1.030475   \n",
            "5    759  1462.010294   739.755000   767.786335  0.519148  1.026015  0.988556   \n",
            "6   1582  1515.632353  1577.889758  1606.144363  1.043789  1.002605  0.984968   \n",
            "7   2680  1569.254412  2614.380451  2673.226244  1.707817  1.025099  1.002534   \n",
            "8   1324  1622.876471  1273.295893  1282.196112  0.815835  1.039821  1.032603   \n",
            "9    811  1676.498529   848.282789   847.085467  0.483746  0.956049  0.957400   \n",
            "10  1801  1730.120588  1801.188495  1766.309105  1.040968  0.999895  1.019640   \n",
            "11  2930  1783.742647  2971.718206  2907.147361  1.642614  0.985962  1.007861   \n",
            "12  1368  1837.364706  1441.581646  1403.874892  0.744545  0.948958  0.974446   \n",
            "13   944  1890.986765   956.810578   927.362139  0.499210  0.986611  1.017941   \n",
            "14  1968  1944.608824  2024.487232  1956.880703  1.012029  0.972098  1.005682   \n",
            "15  3133  1998.230882  3329.055962  3150.805968  1.567887  0.941108  0.994349   \n",
            "16  1491  2051.852941  1609.867399  1523.669132  0.726660  0.926163  0.978559   \n",
            "\n",
            "        循環指数  \n",
            "1   1.034852  \n",
            "2   1.034852  \n",
            "3   1.052764  \n",
            "4   1.052968  \n",
            "5   1.037893  \n",
            "6   1.017907  \n",
            "7   1.022509  \n",
            "8   1.006990  \n",
            "9   0.998589  \n",
            "10  0.980635  \n",
            "11  0.978272  \n",
            "12  0.973843  \n",
            "13  0.969222  \n",
            "14  0.966606  \n",
            "15  0.946456  \n",
            "16  0.946456  \n"
          ]
        }
      ],
      "source": [
        "import numpy as np\n",
        "import pandas as pd\n",
        "x = np.array([651, 1389, 2365, 1199, 759, 1582, 2680, 1324, 811, 1801, 2930, 1368, 944, 1968, 3133, 1491])\n",
        "t = np.array(range(16)) + 1\n",
        "def least_square(x,y):\n",
        "    x_bar = np.mean(x)\n",
        "    y_bar = np.mean(y)\n",
        "    s_x_2 = np.var(x)\n",
        "    s_xy = np.mean((x-x_bar)*(y-y_bar))\n",
        "    alpha = y_bar\n",
        "    beta = s_xy / s_x_2\n",
        "    a = alpha - beta*x_bar\n",
        "    b = beta\n",
        "    return a, b\n",
        "a, b = least_square(t, x)\n",
        "y = a + b * t   # トレンドの予測値を求める(表1.9)の左から3列目\n",
        "z = x / y   # トレンドの誤差を求める(表1.9)の左から6列目\n",
        "h = (z[0] + z[4] + z[8] + z[12]) / 4\n",
        "i = (z[1] + z[5] + z[9] + z[13]) / 4\n",
        "j = (z[2] + z[6] + z[10] + z[14]) / 4\n",
        "k = (z[3] + z[7] + z[11] + z[15]) / 4\n",
        "s = np.array([h, i, j, k] * 4)    #季節指数を求める\n",
        "w = y * s   # 季節変動の予測値を求める(表1.9)の左から4列目\n",
        "u = x / w   # 季節変動の誤差を求める(表1.9)の左から7列目\n",
        "v = [(u[0] + u[1] + u[2]) / 3]\n",
        "for n in range(1,15):\n",
        "  v.append((u[n - 1] + u[n] + u[n + 1]) / 3)\n",
        "v.append((u[13] + u[14] + u[15]) / 3)   #循環指数を求める(表1.9)の左から9列目\n",
        "p = y * s * v   #循環変動の予測値を求める(表1.9)の左から5列目\n",
        "q = x / p   #循環変動の誤差を求める(表1.9)の左から8列目\n",
        "\n",
        "table = pd.DataFrame({'観測地':x,'トレンド予測値':y,'季節変動予測値':w,'循環変動予測値':p,'トレンド誤差':z,'季節変動誤差':u,'循環変動誤差':q,'循環指数':v},t)\n",
        "print(table)\n",
        "\n"
      ]
    }
  ],
  "metadata": {
    "colab": {
      "provenance": [],
      "include_colab_link": true
    },
    "kernelspec": {
      "display_name": "Python 3",
      "name": "python3"
    },
    "language_info": {
      "name": "python"
    }
  },
  "nbformat": 4,
  "nbformat_minor": 0
}